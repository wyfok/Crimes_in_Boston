{
 "cells": [
  {
   "cell_type": "markdown",
   "metadata": {},
   "source": [
    "# Crimes in Boston"
   ]
  },
  {
   "cell_type": "code",
   "execution_count": 1,
   "metadata": {},
   "outputs": [],
   "source": [
    "import numpy as np \n",
    "import pandas as pd \n",
    "import matplotlib.pyplot as plt \n",
    "import matplotlib.animation as animation\n",
    "from ast import literal_eval\n",
    "import seaborn as sns \n",
    "import folium\n",
    "from folium import plugins\n",
    "from folium.plugins import HeatMap"
   ]
  },
  {
   "cell_type": "code",
   "execution_count": 2,
   "metadata": {},
   "outputs": [],
   "source": [
    "data = pd.read_csv('crime.csv', engine='python')"
   ]
  },
  {
   "cell_type": "markdown",
   "metadata": {},
   "source": [
    "First is to explore the dataset "
   ]
  },
  {
   "cell_type": "code",
   "execution_count": 3,
   "metadata": {},
   "outputs": [
    {
     "data": {
      "text/html": [
       "<div>\n",
       "<style scoped>\n",
       "    .dataframe tbody tr th:only-of-type {\n",
       "        vertical-align: middle;\n",
       "    }\n",
       "\n",
       "    .dataframe tbody tr th {\n",
       "        vertical-align: top;\n",
       "    }\n",
       "\n",
       "    .dataframe thead th {\n",
       "        text-align: right;\n",
       "    }\n",
       "</style>\n",
       "<table border=\"1\" class=\"dataframe\">\n",
       "  <thead>\n",
       "    <tr style=\"text-align: right;\">\n",
       "      <th></th>\n",
       "      <th>INCIDENT_NUMBER</th>\n",
       "      <th>OFFENSE_CODE</th>\n",
       "      <th>OFFENSE_CODE_GROUP</th>\n",
       "      <th>OFFENSE_DESCRIPTION</th>\n",
       "      <th>DISTRICT</th>\n",
       "      <th>REPORTING_AREA</th>\n",
       "      <th>SHOOTING</th>\n",
       "      <th>OCCURRED_ON_DATE</th>\n",
       "      <th>YEAR</th>\n",
       "      <th>MONTH</th>\n",
       "      <th>DAY_OF_WEEK</th>\n",
       "      <th>HOUR</th>\n",
       "      <th>UCR_PART</th>\n",
       "      <th>STREET</th>\n",
       "      <th>Lat</th>\n",
       "      <th>Long</th>\n",
       "      <th>Location</th>\n",
       "    </tr>\n",
       "  </thead>\n",
       "  <tbody>\n",
       "    <tr>\n",
       "      <th>0</th>\n",
       "      <td>I182070945</td>\n",
       "      <td>619</td>\n",
       "      <td>Larceny</td>\n",
       "      <td>LARCENY ALL OTHERS</td>\n",
       "      <td>D14</td>\n",
       "      <td>808</td>\n",
       "      <td>NaN</td>\n",
       "      <td>2018-09-02 13:00:00</td>\n",
       "      <td>2018</td>\n",
       "      <td>9</td>\n",
       "      <td>Sunday</td>\n",
       "      <td>13</td>\n",
       "      <td>Part One</td>\n",
       "      <td>LINCOLN ST</td>\n",
       "      <td>42.357791</td>\n",
       "      <td>-71.139371</td>\n",
       "      <td>(42.35779134, -71.13937053)</td>\n",
       "    </tr>\n",
       "    <tr>\n",
       "      <th>1</th>\n",
       "      <td>I182070943</td>\n",
       "      <td>1402</td>\n",
       "      <td>Vandalism</td>\n",
       "      <td>VANDALISM</td>\n",
       "      <td>C11</td>\n",
       "      <td>347</td>\n",
       "      <td>NaN</td>\n",
       "      <td>2018-08-21 00:00:00</td>\n",
       "      <td>2018</td>\n",
       "      <td>8</td>\n",
       "      <td>Tuesday</td>\n",
       "      <td>0</td>\n",
       "      <td>Part Two</td>\n",
       "      <td>HECLA ST</td>\n",
       "      <td>42.306821</td>\n",
       "      <td>-71.060300</td>\n",
       "      <td>(42.30682138, -71.06030035)</td>\n",
       "    </tr>\n",
       "    <tr>\n",
       "      <th>2</th>\n",
       "      <td>I182070941</td>\n",
       "      <td>3410</td>\n",
       "      <td>Towed</td>\n",
       "      <td>TOWED MOTOR VEHICLE</td>\n",
       "      <td>D4</td>\n",
       "      <td>151</td>\n",
       "      <td>NaN</td>\n",
       "      <td>2018-09-03 19:27:00</td>\n",
       "      <td>2018</td>\n",
       "      <td>9</td>\n",
       "      <td>Monday</td>\n",
       "      <td>19</td>\n",
       "      <td>Part Three</td>\n",
       "      <td>CAZENOVE ST</td>\n",
       "      <td>42.346589</td>\n",
       "      <td>-71.072429</td>\n",
       "      <td>(42.34658879, -71.07242943)</td>\n",
       "    </tr>\n",
       "    <tr>\n",
       "      <th>3</th>\n",
       "      <td>I182070940</td>\n",
       "      <td>3114</td>\n",
       "      <td>Investigate Property</td>\n",
       "      <td>INVESTIGATE PROPERTY</td>\n",
       "      <td>D4</td>\n",
       "      <td>272</td>\n",
       "      <td>NaN</td>\n",
       "      <td>2018-09-03 21:16:00</td>\n",
       "      <td>2018</td>\n",
       "      <td>9</td>\n",
       "      <td>Monday</td>\n",
       "      <td>21</td>\n",
       "      <td>Part Three</td>\n",
       "      <td>NEWCOMB ST</td>\n",
       "      <td>42.334182</td>\n",
       "      <td>-71.078664</td>\n",
       "      <td>(42.33418175, -71.07866441)</td>\n",
       "    </tr>\n",
       "    <tr>\n",
       "      <th>4</th>\n",
       "      <td>I182070938</td>\n",
       "      <td>3114</td>\n",
       "      <td>Investigate Property</td>\n",
       "      <td>INVESTIGATE PROPERTY</td>\n",
       "      <td>B3</td>\n",
       "      <td>421</td>\n",
       "      <td>NaN</td>\n",
       "      <td>2018-09-03 21:05:00</td>\n",
       "      <td>2018</td>\n",
       "      <td>9</td>\n",
       "      <td>Monday</td>\n",
       "      <td>21</td>\n",
       "      <td>Part Three</td>\n",
       "      <td>DELHI ST</td>\n",
       "      <td>42.275365</td>\n",
       "      <td>-71.090361</td>\n",
       "      <td>(42.27536542, -71.09036101)</td>\n",
       "    </tr>\n",
       "  </tbody>\n",
       "</table>\n",
       "</div>"
      ],
      "text/plain": [
       "  INCIDENT_NUMBER  OFFENSE_CODE    OFFENSE_CODE_GROUP   OFFENSE_DESCRIPTION  \\\n",
       "0      I182070945           619               Larceny    LARCENY ALL OTHERS   \n",
       "1      I182070943          1402             Vandalism             VANDALISM   \n",
       "2      I182070941          3410                 Towed   TOWED MOTOR VEHICLE   \n",
       "3      I182070940          3114  Investigate Property  INVESTIGATE PROPERTY   \n",
       "4      I182070938          3114  Investigate Property  INVESTIGATE PROPERTY   \n",
       "\n",
       "  DISTRICT REPORTING_AREA SHOOTING     OCCURRED_ON_DATE  YEAR  MONTH  \\\n",
       "0      D14            808      NaN  2018-09-02 13:00:00  2018      9   \n",
       "1      C11            347      NaN  2018-08-21 00:00:00  2018      8   \n",
       "2       D4            151      NaN  2018-09-03 19:27:00  2018      9   \n",
       "3       D4            272      NaN  2018-09-03 21:16:00  2018      9   \n",
       "4       B3            421      NaN  2018-09-03 21:05:00  2018      9   \n",
       "\n",
       "  DAY_OF_WEEK  HOUR    UCR_PART       STREET        Lat       Long  \\\n",
       "0      Sunday    13    Part One   LINCOLN ST  42.357791 -71.139371   \n",
       "1     Tuesday     0    Part Two     HECLA ST  42.306821 -71.060300   \n",
       "2      Monday    19  Part Three  CAZENOVE ST  42.346589 -71.072429   \n",
       "3      Monday    21  Part Three   NEWCOMB ST  42.334182 -71.078664   \n",
       "4      Monday    21  Part Three     DELHI ST  42.275365 -71.090361   \n",
       "\n",
       "                      Location  \n",
       "0  (42.35779134, -71.13937053)  \n",
       "1  (42.30682138, -71.06030035)  \n",
       "2  (42.34658879, -71.07242943)  \n",
       "3  (42.33418175, -71.07866441)  \n",
       "4  (42.27536542, -71.09036101)  "
      ]
     },
     "execution_count": 3,
     "metadata": {},
     "output_type": "execute_result"
    }
   ],
   "source": [
    "data.head()"
   ]
  },
  {
   "cell_type": "code",
   "execution_count": 4,
   "metadata": {},
   "outputs": [
    {
     "name": "stdout",
     "output_type": "stream",
     "text": [
      "<class 'pandas.core.frame.DataFrame'>\n",
      "RangeIndex: 319073 entries, 0 to 319072\n",
      "Data columns (total 17 columns):\n",
      "INCIDENT_NUMBER        319073 non-null object\n",
      "OFFENSE_CODE           319073 non-null int64\n",
      "OFFENSE_CODE_GROUP     319073 non-null object\n",
      "OFFENSE_DESCRIPTION    319073 non-null object\n",
      "DISTRICT               317308 non-null object\n",
      "REPORTING_AREA         319073 non-null object\n",
      "SHOOTING               1019 non-null object\n",
      "OCCURRED_ON_DATE       319073 non-null object\n",
      "YEAR                   319073 non-null int64\n",
      "MONTH                  319073 non-null int64\n",
      "DAY_OF_WEEK            319073 non-null object\n",
      "HOUR                   319073 non-null int64\n",
      "UCR_PART               318983 non-null object\n",
      "STREET                 308202 non-null object\n",
      "Lat                    299074 non-null float64\n",
      "Long                   299074 non-null float64\n",
      "Location               319073 non-null object\n",
      "dtypes: float64(2), int64(4), object(11)\n",
      "memory usage: 41.4+ MB\n"
     ]
    }
   ],
   "source": [
    "data.info()"
   ]
  },
  {
   "cell_type": "markdown",
   "metadata": {},
   "source": [
    "The first column is INCIDENT_NUMBER which should be unique for each case. If so it is possible to remove "
   ]
  },
  {
   "cell_type": "code",
   "execution_count": 5,
   "metadata": {},
   "outputs": [
    {
     "data": {
      "text/plain": [
       "False"
      ]
     },
     "execution_count": 5,
     "metadata": {},
     "output_type": "execute_result"
    }
   ],
   "source": [
    "len(data['INCIDENT_NUMBER'])==len(set(data['INCIDENT_NUMBER']))"
   ]
  },
  {
   "cell_type": "markdown",
   "metadata": {},
   "source": [
    "Sadly there are duplicated values. So for now just keep this column"
   ]
  },
  {
   "cell_type": "markdown",
   "metadata": {},
   "source": [
    "Next is to handle missing values"
   ]
  },
  {
   "cell_type": "code",
   "execution_count": 6,
   "metadata": {},
   "outputs": [
    {
     "data": {
      "text/plain": [
       "INCIDENT_NUMBER             0\n",
       "OFFENSE_CODE                0\n",
       "OFFENSE_CODE_GROUP          0\n",
       "OFFENSE_DESCRIPTION         0\n",
       "DISTRICT                 1765\n",
       "REPORTING_AREA              0\n",
       "SHOOTING               318054\n",
       "OCCURRED_ON_DATE            0\n",
       "YEAR                        0\n",
       "MONTH                       0\n",
       "DAY_OF_WEEK                 0\n",
       "HOUR                        0\n",
       "UCR_PART                   90\n",
       "STREET                  10871\n",
       "Lat                     19999\n",
       "Long                    19999\n",
       "Location                    0\n",
       "dtype: int64"
      ]
     },
     "execution_count": 6,
     "metadata": {},
     "output_type": "execute_result"
    }
   ],
   "source": [
    "data.isnull().sum()"
   ]
  },
  {
   "cell_type": "markdown",
   "metadata": {},
   "source": [
    "<br>First particular column needed to be handled is SHOOTING. There are many missing values. \n",
    "<br>Need to check if missing values in SHOOTING means the case does not involve shooting. If so then need to keep it"
   ]
  },
  {
   "cell_type": "code",
   "execution_count": 7,
   "metadata": {},
   "outputs": [
    {
     "data": {
      "text/plain": [
       "{'Y', nan}"
      ]
     },
     "execution_count": 7,
     "metadata": {},
     "output_type": "execute_result"
    }
   ],
   "source": [
    "set(data['SHOOTING'])"
   ]
  },
  {
   "cell_type": "markdown",
   "metadata": {},
   "source": [
    "There are only two options in SHOOTING, Y and missing "
   ]
  },
  {
   "cell_type": "code",
   "execution_count": 8,
   "metadata": {},
   "outputs": [
    {
     "data": {
      "text/plain": [
       "{'Aggravated Assault',\n",
       " 'Aircraft',\n",
       " 'Arson',\n",
       " 'Assembly or Gathering Violations',\n",
       " 'Auto Theft',\n",
       " 'Auto Theft Recovery',\n",
       " 'Ballistics',\n",
       " 'Biological Threat',\n",
       " 'Bomb Hoax',\n",
       " 'Burglary - No Property Taken',\n",
       " 'Commercial Burglary',\n",
       " 'Confidence Games',\n",
       " 'Counterfeiting',\n",
       " 'Criminal Harassment',\n",
       " 'Disorderly Conduct',\n",
       " 'Drug Violation',\n",
       " 'Embezzlement',\n",
       " 'Evading Fare',\n",
       " 'Explosives',\n",
       " 'Fire Related Reports',\n",
       " 'Firearm Discovery',\n",
       " 'Firearm Violations',\n",
       " 'Fraud',\n",
       " 'Gambling',\n",
       " 'HOME INVASION',\n",
       " 'HUMAN TRAFFICKING',\n",
       " 'HUMAN TRAFFICKING - INVOLUNTARY SERVITUDE',\n",
       " 'Harassment',\n",
       " 'Harbor Related Incidents',\n",
       " 'Homicide',\n",
       " 'INVESTIGATE PERSON',\n",
       " 'Investigate Person',\n",
       " 'Investigate Property',\n",
       " 'Landlord/Tenant Disputes',\n",
       " 'Larceny',\n",
       " 'Larceny From Motor Vehicle',\n",
       " 'License Plate Related Incidents',\n",
       " 'License Violation',\n",
       " 'Liquor Violation',\n",
       " 'Manslaughter',\n",
       " 'Medical Assistance',\n",
       " 'Missing Person Located',\n",
       " 'Missing Person Reported',\n",
       " 'Motor Vehicle Accident Response',\n",
       " 'Offenses Against Child / Family',\n",
       " 'Operating Under the Influence',\n",
       " 'Other',\n",
       " 'Other Burglary',\n",
       " 'Phone Call Complaints',\n",
       " 'Police Service Incidents',\n",
       " 'Prisoner Related Incidents',\n",
       " 'Property Found',\n",
       " 'Property Lost',\n",
       " 'Property Related Damage',\n",
       " 'Prostitution',\n",
       " 'Recovered Stolen Property',\n",
       " 'Residential Burglary',\n",
       " 'Restraining Order Violations',\n",
       " 'Robbery',\n",
       " 'Search Warrants',\n",
       " 'Service',\n",
       " 'Simple Assault',\n",
       " 'Towed',\n",
       " 'Vandalism',\n",
       " 'Verbal Disputes',\n",
       " 'Violations',\n",
       " 'Warrant Arrests'}"
      ]
     },
     "execution_count": 8,
     "metadata": {},
     "output_type": "execute_result"
    }
   ],
   "source": [
    "set(data.loc[data['SHOOTING'].isnull(),'OFFENSE_CODE_GROUP'])"
   ]
  },
  {
   "cell_type": "code",
   "execution_count": 9,
   "metadata": {},
   "outputs": [
    {
     "data": {
      "text/plain": [
       "{'Aggravated Assault',\n",
       " 'Ballistics',\n",
       " 'Disorderly Conduct',\n",
       " 'Drug Violation',\n",
       " 'Firearm Discovery',\n",
       " 'Firearm Violations',\n",
       " 'HOME INVASION',\n",
       " 'Homicide',\n",
       " 'Investigate Person',\n",
       " 'Investigate Property',\n",
       " 'Manslaughter',\n",
       " 'Medical Assistance',\n",
       " 'Missing Person Located',\n",
       " 'Motor Vehicle Accident Response',\n",
       " 'Other',\n",
       " 'Police Service Incidents',\n",
       " 'Property Found',\n",
       " 'Property Lost',\n",
       " 'Property Related Damage',\n",
       " 'Recovered Stolen Property',\n",
       " 'Robbery',\n",
       " 'Search Warrants',\n",
       " 'Simple Assault',\n",
       " 'Towed',\n",
       " 'Vandalism',\n",
       " 'Violations',\n",
       " 'Warrant Arrests'}"
      ]
     },
     "execution_count": 9,
     "metadata": {},
     "output_type": "execute_result"
    }
   ],
   "source": [
    "set(data.loc[~data['SHOOTING'].isnull(),'OFFENSE_CODE_GROUP'])"
   ]
  },
  {
   "cell_type": "markdown",
   "metadata": {},
   "source": [
    "Comparing the OFFENSE_CODE_GROUP with SHOOTING ='Y' and missing value in SHOOTING, it is reasonableto say that missing value means there is no shooting involved. Replace those missing with 'N' "
   ]
  },
  {
   "cell_type": "code",
   "execution_count": 10,
   "metadata": {},
   "outputs": [],
   "source": [
    "data.loc[data['SHOOTING'].isnull(),'SHOOTING']='N'"
   ]
  },
  {
   "cell_type": "markdown",
   "metadata": {},
   "source": [
    "Next is to handle STREET, Lat and Long\n",
    "<br>However, there is no missing value for Location which seems store lat and long.\n",
    "<br>After confirming, information in Location can be used to replace missing values in Lat and Long."
   ]
  },
  {
   "cell_type": "code",
   "execution_count": 11,
   "metadata": {},
   "outputs": [],
   "source": [
    "data['Location'] = [literal_eval(x) for x in data['Location']]"
   ]
  },
  {
   "cell_type": "code",
   "execution_count": 12,
   "metadata": {},
   "outputs": [],
   "source": [
    "data[['Lat_loc','Long_loc']] = pd.DataFrame(data['Location'].to_list(),index=data.index)"
   ]
  },
  {
   "cell_type": "code",
   "execution_count": 13,
   "metadata": {},
   "outputs": [
    {
     "data": {
      "text/plain": [
       "True"
      ]
     },
     "execution_count": 13,
     "metadata": {},
     "output_type": "execute_result"
    }
   ],
   "source": [
    "all(data.loc[~data['Lat'].isnull(),'Lat']==data.loc[~data['Lat'].isnull(),'Lat_loc'])"
   ]
  },
  {
   "cell_type": "code",
   "execution_count": 14,
   "metadata": {},
   "outputs": [
    {
     "data": {
      "text/plain": [
       "True"
      ]
     },
     "execution_count": 14,
     "metadata": {},
     "output_type": "execute_result"
    }
   ],
   "source": [
    "all(data.loc[~data['Long'].isnull(),'Long']==data.loc[~data['Long'].isnull(),'Long_loc'])"
   ]
  },
  {
   "cell_type": "markdown",
   "metadata": {},
   "source": [
    "So for non missing values in Lat and Lot columns, their values match with Location \n",
    "<br>As a result, Lat and Long from Location are used to replace missing values in Lat and Long colunms"
   ]
  },
  {
   "cell_type": "code",
   "execution_count": 15,
   "metadata": {},
   "outputs": [],
   "source": [
    "data.loc[data['Lat'].isnull(),'Lat']=data['Lat_loc']"
   ]
  },
  {
   "cell_type": "code",
   "execution_count": 16,
   "metadata": {},
   "outputs": [],
   "source": [
    "data.loc[data['Long'].isnull(),'Long']=data['Long_loc']"
   ]
  },
  {
   "cell_type": "markdown",
   "metadata": {},
   "source": [
    "Finally remains STREET, DISTRICT, and UCR_PART\n",
    "<br>Since we have lat and long, it is possible to remove STREET and DISTRICT columns. But for now will just keep them from the dataset with missing values.\n",
    "<br>For UCR_PART, since there are only 90 missing values, there should be no problem affecting the analysis. Therefore just leave it "
   ]
  },
  {
   "cell_type": "markdown",
   "metadata": {},
   "source": [
    "Now can remove Lat_loc, Long_loc and Location columns "
   ]
  },
  {
   "cell_type": "code",
   "execution_count": 17,
   "metadata": {},
   "outputs": [],
   "source": [
    "data.drop(['Lat_loc','Long_loc','Location'],axis=1,inplace=True)"
   ]
  },
  {
   "cell_type": "code",
   "execution_count": 18,
   "metadata": {},
   "outputs": [
    {
     "data": {
      "text/html": [
       "<div>\n",
       "<style scoped>\n",
       "    .dataframe tbody tr th:only-of-type {\n",
       "        vertical-align: middle;\n",
       "    }\n",
       "\n",
       "    .dataframe tbody tr th {\n",
       "        vertical-align: top;\n",
       "    }\n",
       "\n",
       "    .dataframe thead th {\n",
       "        text-align: right;\n",
       "    }\n",
       "</style>\n",
       "<table border=\"1\" class=\"dataframe\">\n",
       "  <thead>\n",
       "    <tr style=\"text-align: right;\">\n",
       "      <th></th>\n",
       "      <th>INCIDENT_NUMBER</th>\n",
       "      <th>OFFENSE_CODE</th>\n",
       "      <th>OFFENSE_CODE_GROUP</th>\n",
       "      <th>OFFENSE_DESCRIPTION</th>\n",
       "      <th>DISTRICT</th>\n",
       "      <th>REPORTING_AREA</th>\n",
       "      <th>SHOOTING</th>\n",
       "      <th>OCCURRED_ON_DATE</th>\n",
       "      <th>YEAR</th>\n",
       "      <th>MONTH</th>\n",
       "      <th>DAY_OF_WEEK</th>\n",
       "      <th>HOUR</th>\n",
       "      <th>UCR_PART</th>\n",
       "      <th>STREET</th>\n",
       "      <th>Lat</th>\n",
       "      <th>Long</th>\n",
       "    </tr>\n",
       "  </thead>\n",
       "  <tbody>\n",
       "    <tr>\n",
       "      <th>0</th>\n",
       "      <td>I182070945</td>\n",
       "      <td>619</td>\n",
       "      <td>Larceny</td>\n",
       "      <td>LARCENY ALL OTHERS</td>\n",
       "      <td>D14</td>\n",
       "      <td>808</td>\n",
       "      <td>N</td>\n",
       "      <td>2018-09-02 13:00:00</td>\n",
       "      <td>2018</td>\n",
       "      <td>9</td>\n",
       "      <td>Sunday</td>\n",
       "      <td>13</td>\n",
       "      <td>Part One</td>\n",
       "      <td>LINCOLN ST</td>\n",
       "      <td>42.357791</td>\n",
       "      <td>-71.139371</td>\n",
       "    </tr>\n",
       "    <tr>\n",
       "      <th>1</th>\n",
       "      <td>I182070943</td>\n",
       "      <td>1402</td>\n",
       "      <td>Vandalism</td>\n",
       "      <td>VANDALISM</td>\n",
       "      <td>C11</td>\n",
       "      <td>347</td>\n",
       "      <td>N</td>\n",
       "      <td>2018-08-21 00:00:00</td>\n",
       "      <td>2018</td>\n",
       "      <td>8</td>\n",
       "      <td>Tuesday</td>\n",
       "      <td>0</td>\n",
       "      <td>Part Two</td>\n",
       "      <td>HECLA ST</td>\n",
       "      <td>42.306821</td>\n",
       "      <td>-71.060300</td>\n",
       "    </tr>\n",
       "    <tr>\n",
       "      <th>2</th>\n",
       "      <td>I182070941</td>\n",
       "      <td>3410</td>\n",
       "      <td>Towed</td>\n",
       "      <td>TOWED MOTOR VEHICLE</td>\n",
       "      <td>D4</td>\n",
       "      <td>151</td>\n",
       "      <td>N</td>\n",
       "      <td>2018-09-03 19:27:00</td>\n",
       "      <td>2018</td>\n",
       "      <td>9</td>\n",
       "      <td>Monday</td>\n",
       "      <td>19</td>\n",
       "      <td>Part Three</td>\n",
       "      <td>CAZENOVE ST</td>\n",
       "      <td>42.346589</td>\n",
       "      <td>-71.072429</td>\n",
       "    </tr>\n",
       "    <tr>\n",
       "      <th>3</th>\n",
       "      <td>I182070940</td>\n",
       "      <td>3114</td>\n",
       "      <td>Investigate Property</td>\n",
       "      <td>INVESTIGATE PROPERTY</td>\n",
       "      <td>D4</td>\n",
       "      <td>272</td>\n",
       "      <td>N</td>\n",
       "      <td>2018-09-03 21:16:00</td>\n",
       "      <td>2018</td>\n",
       "      <td>9</td>\n",
       "      <td>Monday</td>\n",
       "      <td>21</td>\n",
       "      <td>Part Three</td>\n",
       "      <td>NEWCOMB ST</td>\n",
       "      <td>42.334182</td>\n",
       "      <td>-71.078664</td>\n",
       "    </tr>\n",
       "    <tr>\n",
       "      <th>4</th>\n",
       "      <td>I182070938</td>\n",
       "      <td>3114</td>\n",
       "      <td>Investigate Property</td>\n",
       "      <td>INVESTIGATE PROPERTY</td>\n",
       "      <td>B3</td>\n",
       "      <td>421</td>\n",
       "      <td>N</td>\n",
       "      <td>2018-09-03 21:05:00</td>\n",
       "      <td>2018</td>\n",
       "      <td>9</td>\n",
       "      <td>Monday</td>\n",
       "      <td>21</td>\n",
       "      <td>Part Three</td>\n",
       "      <td>DELHI ST</td>\n",
       "      <td>42.275365</td>\n",
       "      <td>-71.090361</td>\n",
       "    </tr>\n",
       "  </tbody>\n",
       "</table>\n",
       "</div>"
      ],
      "text/plain": [
       "  INCIDENT_NUMBER  OFFENSE_CODE    OFFENSE_CODE_GROUP   OFFENSE_DESCRIPTION  \\\n",
       "0      I182070945           619               Larceny    LARCENY ALL OTHERS   \n",
       "1      I182070943          1402             Vandalism             VANDALISM   \n",
       "2      I182070941          3410                 Towed   TOWED MOTOR VEHICLE   \n",
       "3      I182070940          3114  Investigate Property  INVESTIGATE PROPERTY   \n",
       "4      I182070938          3114  Investigate Property  INVESTIGATE PROPERTY   \n",
       "\n",
       "  DISTRICT REPORTING_AREA SHOOTING     OCCURRED_ON_DATE  YEAR  MONTH  \\\n",
       "0      D14            808        N  2018-09-02 13:00:00  2018      9   \n",
       "1      C11            347        N  2018-08-21 00:00:00  2018      8   \n",
       "2       D4            151        N  2018-09-03 19:27:00  2018      9   \n",
       "3       D4            272        N  2018-09-03 21:16:00  2018      9   \n",
       "4       B3            421        N  2018-09-03 21:05:00  2018      9   \n",
       "\n",
       "  DAY_OF_WEEK  HOUR    UCR_PART       STREET        Lat       Long  \n",
       "0      Sunday    13    Part One   LINCOLN ST  42.357791 -71.139371  \n",
       "1     Tuesday     0    Part Two     HECLA ST  42.306821 -71.060300  \n",
       "2      Monday    19  Part Three  CAZENOVE ST  42.346589 -71.072429  \n",
       "3      Monday    21  Part Three   NEWCOMB ST  42.334182 -71.078664  \n",
       "4      Monday    21  Part Three     DELHI ST  42.275365 -71.090361  "
      ]
     },
     "execution_count": 18,
     "metadata": {},
     "output_type": "execute_result"
    }
   ],
   "source": [
    "data.head()"
   ]
  },
  {
   "cell_type": "code",
   "execution_count": 19,
   "metadata": {},
   "outputs": [
    {
     "data": {
      "text/html": [
       "<div>\n",
       "<style scoped>\n",
       "    .dataframe tbody tr th:only-of-type {\n",
       "        vertical-align: middle;\n",
       "    }\n",
       "\n",
       "    .dataframe tbody tr th {\n",
       "        vertical-align: top;\n",
       "    }\n",
       "\n",
       "    .dataframe thead th {\n",
       "        text-align: right;\n",
       "    }\n",
       "</style>\n",
       "<table border=\"1\" class=\"dataframe\">\n",
       "  <thead>\n",
       "    <tr style=\"text-align: right;\">\n",
       "      <th></th>\n",
       "      <th>OFFENSE_CODE</th>\n",
       "      <th>YEAR</th>\n",
       "      <th>MONTH</th>\n",
       "      <th>HOUR</th>\n",
       "      <th>Lat</th>\n",
       "      <th>Long</th>\n",
       "    </tr>\n",
       "  </thead>\n",
       "  <tbody>\n",
       "    <tr>\n",
       "      <th>count</th>\n",
       "      <td>319073.000000</td>\n",
       "      <td>319073.000000</td>\n",
       "      <td>319073.000000</td>\n",
       "      <td>319073.000000</td>\n",
       "      <td>319073.000000</td>\n",
       "      <td>319073.000000</td>\n",
       "    </tr>\n",
       "    <tr>\n",
       "      <th>mean</th>\n",
       "      <td>2317.546956</td>\n",
       "      <td>2016.560586</td>\n",
       "      <td>6.609719</td>\n",
       "      <td>13.118205</td>\n",
       "      <td>39.568449</td>\n",
       "      <td>-66.463852</td>\n",
       "    </tr>\n",
       "    <tr>\n",
       "      <th>std</th>\n",
       "      <td>1185.285543</td>\n",
       "      <td>0.996344</td>\n",
       "      <td>3.273691</td>\n",
       "      <td>6.294205</td>\n",
       "      <td>10.443561</td>\n",
       "      <td>17.516694</td>\n",
       "    </tr>\n",
       "    <tr>\n",
       "      <th>min</th>\n",
       "      <td>111.000000</td>\n",
       "      <td>2015.000000</td>\n",
       "      <td>1.000000</td>\n",
       "      <td>0.000000</td>\n",
       "      <td>-1.000000</td>\n",
       "      <td>-71.178674</td>\n",
       "    </tr>\n",
       "    <tr>\n",
       "      <th>25%</th>\n",
       "      <td>1001.000000</td>\n",
       "      <td>2016.000000</td>\n",
       "      <td>4.000000</td>\n",
       "      <td>9.000000</td>\n",
       "      <td>42.290736</td>\n",
       "      <td>-71.095264</td>\n",
       "    </tr>\n",
       "    <tr>\n",
       "      <th>50%</th>\n",
       "      <td>2907.000000</td>\n",
       "      <td>2017.000000</td>\n",
       "      <td>7.000000</td>\n",
       "      <td>14.000000</td>\n",
       "      <td>42.321060</td>\n",
       "      <td>-71.075608</td>\n",
       "    </tr>\n",
       "    <tr>\n",
       "      <th>75%</th>\n",
       "      <td>3201.000000</td>\n",
       "      <td>2017.000000</td>\n",
       "      <td>9.000000</td>\n",
       "      <td>18.000000</td>\n",
       "      <td>42.347174</td>\n",
       "      <td>-71.060005</td>\n",
       "    </tr>\n",
       "    <tr>\n",
       "      <th>max</th>\n",
       "      <td>3831.000000</td>\n",
       "      <td>2018.000000</td>\n",
       "      <td>12.000000</td>\n",
       "      <td>23.000000</td>\n",
       "      <td>42.395042</td>\n",
       "      <td>0.000000</td>\n",
       "    </tr>\n",
       "  </tbody>\n",
       "</table>\n",
       "</div>"
      ],
      "text/plain": [
       "        OFFENSE_CODE           YEAR          MONTH           HOUR  \\\n",
       "count  319073.000000  319073.000000  319073.000000  319073.000000   \n",
       "mean     2317.546956    2016.560586       6.609719      13.118205   \n",
       "std      1185.285543       0.996344       3.273691       6.294205   \n",
       "min       111.000000    2015.000000       1.000000       0.000000   \n",
       "25%      1001.000000    2016.000000       4.000000       9.000000   \n",
       "50%      2907.000000    2017.000000       7.000000      14.000000   \n",
       "75%      3201.000000    2017.000000       9.000000      18.000000   \n",
       "max      3831.000000    2018.000000      12.000000      23.000000   \n",
       "\n",
       "                 Lat           Long  \n",
       "count  319073.000000  319073.000000  \n",
       "mean       39.568449     -66.463852  \n",
       "std        10.443561      17.516694  \n",
       "min        -1.000000     -71.178674  \n",
       "25%        42.290736     -71.095264  \n",
       "50%        42.321060     -71.075608  \n",
       "75%        42.347174     -71.060005  \n",
       "max        42.395042       0.000000  "
      ]
     },
     "execution_count": 19,
     "metadata": {},
     "output_type": "execute_result"
    }
   ],
   "source": [
    "data.describe()"
   ]
  },
  {
   "cell_type": "markdown",
   "metadata": {},
   "source": [
    "There are some records with abnormal Lat and Long. Eg. Lat =1 and Long =0\n",
    "<br>Since the dataset only covers Boston, the variation of Lat and Long should be very small\n",
    "<br>Need to consider the accuracy and thus possible to delete "
   ]
  },
  {
   "cell_type": "code",
   "execution_count": 20,
   "metadata": {},
   "outputs": [
    {
     "data": {
      "text/html": [
       "<div>\n",
       "<style scoped>\n",
       "    .dataframe tbody tr th:only-of-type {\n",
       "        vertical-align: middle;\n",
       "    }\n",
       "\n",
       "    .dataframe tbody tr th {\n",
       "        vertical-align: top;\n",
       "    }\n",
       "\n",
       "    .dataframe thead th {\n",
       "        text-align: right;\n",
       "    }\n",
       "</style>\n",
       "<table border=\"1\" class=\"dataframe\">\n",
       "  <thead>\n",
       "    <tr style=\"text-align: right;\">\n",
       "      <th></th>\n",
       "      <th>OFFENSE_CODE</th>\n",
       "      <th>YEAR</th>\n",
       "      <th>MONTH</th>\n",
       "      <th>HOUR</th>\n",
       "      <th>Lat</th>\n",
       "      <th>Long</th>\n",
       "    </tr>\n",
       "  </thead>\n",
       "  <tbody>\n",
       "    <tr>\n",
       "      <th>count</th>\n",
       "      <td>20744.000000</td>\n",
       "      <td>20744.000000</td>\n",
       "      <td>20744.000000</td>\n",
       "      <td>20744.000000</td>\n",
       "      <td>20744.000000</td>\n",
       "      <td>20744.000000</td>\n",
       "    </tr>\n",
       "    <tr>\n",
       "      <th>mean</th>\n",
       "      <td>2623.207819</td>\n",
       "      <td>2016.661830</td>\n",
       "      <td>6.559246</td>\n",
       "      <td>13.015426</td>\n",
       "      <td>-0.035914</td>\n",
       "      <td>-0.035914</td>\n",
       "    </tr>\n",
       "    <tr>\n",
       "      <th>std</th>\n",
       "      <td>1174.358413</td>\n",
       "      <td>0.931298</td>\n",
       "      <td>3.208988</td>\n",
       "      <td>6.509395</td>\n",
       "      <td>0.186080</td>\n",
       "      <td>0.186080</td>\n",
       "    </tr>\n",
       "    <tr>\n",
       "      <th>min</th>\n",
       "      <td>111.000000</td>\n",
       "      <td>2015.000000</td>\n",
       "      <td>1.000000</td>\n",
       "      <td>0.000000</td>\n",
       "      <td>-1.000000</td>\n",
       "      <td>-1.000000</td>\n",
       "    </tr>\n",
       "    <tr>\n",
       "      <th>25%</th>\n",
       "      <td>1841.000000</td>\n",
       "      <td>2016.000000</td>\n",
       "      <td>4.000000</td>\n",
       "      <td>9.000000</td>\n",
       "      <td>0.000000</td>\n",
       "      <td>0.000000</td>\n",
       "    </tr>\n",
       "    <tr>\n",
       "      <th>50%</th>\n",
       "      <td>3018.000000</td>\n",
       "      <td>2017.000000</td>\n",
       "      <td>7.000000</td>\n",
       "      <td>14.000000</td>\n",
       "      <td>0.000000</td>\n",
       "      <td>0.000000</td>\n",
       "    </tr>\n",
       "    <tr>\n",
       "      <th>75%</th>\n",
       "      <td>3802.000000</td>\n",
       "      <td>2017.000000</td>\n",
       "      <td>9.000000</td>\n",
       "      <td>18.000000</td>\n",
       "      <td>0.000000</td>\n",
       "      <td>0.000000</td>\n",
       "    </tr>\n",
       "    <tr>\n",
       "      <th>max</th>\n",
       "      <td>3831.000000</td>\n",
       "      <td>2018.000000</td>\n",
       "      <td>12.000000</td>\n",
       "      <td>23.000000</td>\n",
       "      <td>0.000000</td>\n",
       "      <td>0.000000</td>\n",
       "    </tr>\n",
       "  </tbody>\n",
       "</table>\n",
       "</div>"
      ],
      "text/plain": [
       "       OFFENSE_CODE          YEAR         MONTH          HOUR           Lat  \\\n",
       "count  20744.000000  20744.000000  20744.000000  20744.000000  20744.000000   \n",
       "mean    2623.207819   2016.661830      6.559246     13.015426     -0.035914   \n",
       "std     1174.358413      0.931298      3.208988      6.509395      0.186080   \n",
       "min      111.000000   2015.000000      1.000000      0.000000     -1.000000   \n",
       "25%     1841.000000   2016.000000      4.000000      9.000000      0.000000   \n",
       "50%     3018.000000   2017.000000      7.000000     14.000000      0.000000   \n",
       "75%     3802.000000   2017.000000      9.000000     18.000000      0.000000   \n",
       "max     3831.000000   2018.000000     12.000000     23.000000      0.000000   \n",
       "\n",
       "               Long  \n",
       "count  20744.000000  \n",
       "mean      -0.035914  \n",
       "std        0.186080  \n",
       "min       -1.000000  \n",
       "25%        0.000000  \n",
       "50%        0.000000  \n",
       "75%        0.000000  \n",
       "max        0.000000  "
      ]
     },
     "execution_count": 20,
     "metadata": {},
     "output_type": "execute_result"
    }
   ],
   "source": [
    "data[((data['Lat']<42)|(data['Lat']>43))].describe()"
   ]
  },
  {
   "cell_type": "markdown",
   "metadata": {},
   "source": [
    "It is pretty sure that records with abnormal Lat or Long are inaccurate\n",
    "<br>Since there are around 10% of overall records, these records will be kept but will not be used when location is studied in later stage"
   ]
  },
  {
   "cell_type": "markdown",
   "metadata": {},
   "source": [
    "Now we can explore the dataset"
   ]
  },
  {
   "cell_type": "code",
   "execution_count": 21,
   "metadata": {},
   "outputs": [
    {
     "name": "stdout",
     "output_type": "stream",
     "text": [
      "2015-06-15 00:00:00\n",
      "2018-09-03 21:25:00\n"
     ]
    }
   ],
   "source": [
    "print(min(data['OCCURRED_ON_DATE']))\n",
    "print(max(data['OCCURRED_ON_DATE']))"
   ]
  },
  {
   "cell_type": "markdown",
   "metadata": {},
   "source": [
    "First study is the offense_code_group "
   ]
  },
  {
   "cell_type": "code",
   "execution_count": 22,
   "metadata": {},
   "outputs": [
    {
     "data": {
      "text/html": [
       "<div>\n",
       "<style scoped>\n",
       "    .dataframe tbody tr th:only-of-type {\n",
       "        vertical-align: middle;\n",
       "    }\n",
       "\n",
       "    .dataframe tbody tr th {\n",
       "        vertical-align: top;\n",
       "    }\n",
       "\n",
       "    .dataframe thead th {\n",
       "        text-align: right;\n",
       "    }\n",
       "</style>\n",
       "<table border=\"1\" class=\"dataframe\">\n",
       "  <thead>\n",
       "    <tr style=\"text-align: right;\">\n",
       "      <th></th>\n",
       "      <th>count</th>\n",
       "    </tr>\n",
       "    <tr>\n",
       "      <th>OFFENSE_CODE_GROUP</th>\n",
       "      <th></th>\n",
       "    </tr>\n",
       "  </thead>\n",
       "  <tbody>\n",
       "    <tr>\n",
       "      <th>Motor Vehicle Accident Response</th>\n",
       "      <td>37132</td>\n",
       "    </tr>\n",
       "    <tr>\n",
       "      <th>Larceny</th>\n",
       "      <td>25935</td>\n",
       "    </tr>\n",
       "    <tr>\n",
       "      <th>Medical Assistance</th>\n",
       "      <td>23540</td>\n",
       "    </tr>\n",
       "    <tr>\n",
       "      <th>Investigate Person</th>\n",
       "      <td>18750</td>\n",
       "    </tr>\n",
       "    <tr>\n",
       "      <th>Other</th>\n",
       "      <td>18075</td>\n",
       "    </tr>\n",
       "    <tr>\n",
       "      <th>Drug Violation</th>\n",
       "      <td>16548</td>\n",
       "    </tr>\n",
       "    <tr>\n",
       "      <th>Simple Assault</th>\n",
       "      <td>15826</td>\n",
       "    </tr>\n",
       "    <tr>\n",
       "      <th>Vandalism</th>\n",
       "      <td>15415</td>\n",
       "    </tr>\n",
       "    <tr>\n",
       "      <th>Verbal Disputes</th>\n",
       "      <td>13099</td>\n",
       "    </tr>\n",
       "    <tr>\n",
       "      <th>Towed</th>\n",
       "      <td>11287</td>\n",
       "    </tr>\n",
       "  </tbody>\n",
       "</table>\n",
       "</div>"
      ],
      "text/plain": [
       "                                 count\n",
       "OFFENSE_CODE_GROUP                    \n",
       "Motor Vehicle Accident Response  37132\n",
       "Larceny                          25935\n",
       "Medical Assistance               23540\n",
       "Investigate Person               18750\n",
       "Other                            18075\n",
       "Drug Violation                   16548\n",
       "Simple Assault                   15826\n",
       "Vandalism                        15415\n",
       "Verbal Disputes                  13099\n",
       "Towed                            11287"
      ]
     },
     "execution_count": 22,
     "metadata": {},
     "output_type": "execute_result"
    }
   ],
   "source": [
    "data.groupby(['OFFENSE_CODE_GROUP']).agg({'INCIDENT_NUMBER':'count'}).rename(columns={'INCIDENT_NUMBER':'count'}).sort_values(by='count',ascending=False).head(10)"
   ]
  },
  {
   "cell_type": "markdown",
   "metadata": {},
   "source": [
    "Top three most frequent offenses: Motor Vehicle Accident Response, Larceny and Medical Assistance\n",
    "<br>Top three contributes more than 20% of total"
   ]
  },
  {
   "cell_type": "markdown",
   "metadata": {},
   "source": [
    "How about we only consider crimes with shooting?"
   ]
  },
  {
   "cell_type": "code",
   "execution_count": 23,
   "metadata": {},
   "outputs": [
    {
     "data": {
      "text/html": [
       "<div>\n",
       "<style scoped>\n",
       "    .dataframe tbody tr th:only-of-type {\n",
       "        vertical-align: middle;\n",
       "    }\n",
       "\n",
       "    .dataframe tbody tr th {\n",
       "        vertical-align: top;\n",
       "    }\n",
       "\n",
       "    .dataframe thead th {\n",
       "        text-align: right;\n",
       "    }\n",
       "</style>\n",
       "<table border=\"1\" class=\"dataframe\">\n",
       "  <thead>\n",
       "    <tr style=\"text-align: right;\">\n",
       "      <th></th>\n",
       "      <th>count</th>\n",
       "    </tr>\n",
       "    <tr>\n",
       "      <th>SHOOTING</th>\n",
       "      <th></th>\n",
       "    </tr>\n",
       "  </thead>\n",
       "  <tbody>\n",
       "    <tr>\n",
       "      <th>N</th>\n",
       "      <td>318054</td>\n",
       "    </tr>\n",
       "    <tr>\n",
       "      <th>Y</th>\n",
       "      <td>1019</td>\n",
       "    </tr>\n",
       "  </tbody>\n",
       "</table>\n",
       "</div>"
      ],
      "text/plain": [
       "           count\n",
       "SHOOTING        \n",
       "N         318054\n",
       "Y           1019"
      ]
     },
     "execution_count": 23,
     "metadata": {},
     "output_type": "execute_result"
    }
   ],
   "source": [
    "data.groupby(['SHOOTING']).agg({'INCIDENT_NUMBER':'count'}).rename(columns={'INCIDENT_NUMBER':'count'})"
   ]
  },
  {
   "cell_type": "markdown",
   "metadata": {},
   "source": [
    "Luckily, there are only slightly over 1000 crimes involving shooting"
   ]
  },
  {
   "cell_type": "code",
   "execution_count": 24,
   "metadata": {},
   "outputs": [
    {
     "data": {
      "text/html": [
       "<div>\n",
       "<style scoped>\n",
       "    .dataframe tbody tr th:only-of-type {\n",
       "        vertical-align: middle;\n",
       "    }\n",
       "\n",
       "    .dataframe tbody tr th {\n",
       "        vertical-align: top;\n",
       "    }\n",
       "\n",
       "    .dataframe thead th {\n",
       "        text-align: right;\n",
       "    }\n",
       "</style>\n",
       "<table border=\"1\" class=\"dataframe\">\n",
       "  <thead>\n",
       "    <tr style=\"text-align: right;\">\n",
       "      <th></th>\n",
       "      <th>count</th>\n",
       "    </tr>\n",
       "    <tr>\n",
       "      <th>OFFENSE_CODE_GROUP</th>\n",
       "      <th></th>\n",
       "    </tr>\n",
       "  </thead>\n",
       "  <tbody>\n",
       "    <tr>\n",
       "      <th>Aggravated Assault</th>\n",
       "      <td>523</td>\n",
       "    </tr>\n",
       "    <tr>\n",
       "      <th>Homicide</th>\n",
       "      <td>121</td>\n",
       "    </tr>\n",
       "    <tr>\n",
       "      <th>Warrant Arrests</th>\n",
       "      <td>73</td>\n",
       "    </tr>\n",
       "    <tr>\n",
       "      <th>Firearm Violations</th>\n",
       "      <td>71</td>\n",
       "    </tr>\n",
       "    <tr>\n",
       "      <th>Ballistics</th>\n",
       "      <td>42</td>\n",
       "    </tr>\n",
       "    <tr>\n",
       "      <th>Drug Violation</th>\n",
       "      <td>32</td>\n",
       "    </tr>\n",
       "    <tr>\n",
       "      <th>Search Warrants</th>\n",
       "      <td>29</td>\n",
       "    </tr>\n",
       "    <tr>\n",
       "      <th>Medical Assistance</th>\n",
       "      <td>20</td>\n",
       "    </tr>\n",
       "    <tr>\n",
       "      <th>Robbery</th>\n",
       "      <td>19</td>\n",
       "    </tr>\n",
       "    <tr>\n",
       "      <th>Vandalism</th>\n",
       "      <td>17</td>\n",
       "    </tr>\n",
       "  </tbody>\n",
       "</table>\n",
       "</div>"
      ],
      "text/plain": [
       "                    count\n",
       "OFFENSE_CODE_GROUP       \n",
       "Aggravated Assault    523\n",
       "Homicide              121\n",
       "Warrant Arrests        73\n",
       "Firearm Violations     71\n",
       "Ballistics             42\n",
       "Drug Violation         32\n",
       "Search Warrants        29\n",
       "Medical Assistance     20\n",
       "Robbery                19\n",
       "Vandalism              17"
      ]
     },
     "execution_count": 24,
     "metadata": {},
     "output_type": "execute_result"
    }
   ],
   "source": [
    "data[data['SHOOTING']=='Y'].groupby(['OFFENSE_CODE_GROUP']).agg({'INCIDENT_NUMBER':'count'}).rename(columns={'INCIDENT_NUMBER':'count'}).sort_values(by='count',ascending=False).head(10)"
   ]
  },
  {
   "cell_type": "markdown",
   "metadata": {},
   "source": [
    "And already over half is aggravated assault."
   ]
  },
  {
   "cell_type": "markdown",
   "metadata": {},
   "source": [
    "Next is to study the frequent timeslot for crime\n",
    "<br>Also, overall crimes and involved shooting are studied"
   ]
  },
  {
   "cell_type": "code",
   "execution_count": 25,
   "metadata": {},
   "outputs": [
    {
     "data": {
      "text/html": [
       "<div>\n",
       "<style scoped>\n",
       "    .dataframe tbody tr th:only-of-type {\n",
       "        vertical-align: middle;\n",
       "    }\n",
       "\n",
       "    .dataframe tbody tr th {\n",
       "        vertical-align: top;\n",
       "    }\n",
       "\n",
       "    .dataframe thead th {\n",
       "        text-align: right;\n",
       "    }\n",
       "</style>\n",
       "<table border=\"1\" class=\"dataframe\">\n",
       "  <thead>\n",
       "    <tr style=\"text-align: right;\">\n",
       "      <th></th>\n",
       "      <th></th>\n",
       "      <th>count</th>\n",
       "    </tr>\n",
       "    <tr>\n",
       "      <th>DAY_OF_WEEK</th>\n",
       "      <th>HOUR</th>\n",
       "      <th></th>\n",
       "    </tr>\n",
       "  </thead>\n",
       "  <tbody>\n",
       "    <tr>\n",
       "      <th>Monday</th>\n",
       "      <th>17</th>\n",
       "      <td>3254</td>\n",
       "    </tr>\n",
       "    <tr>\n",
       "      <th>Friday</th>\n",
       "      <th>17</th>\n",
       "      <td>3252</td>\n",
       "    </tr>\n",
       "    <tr>\n",
       "      <th rowspan=\"2\" valign=\"top\">Tuesday</th>\n",
       "      <th>17</th>\n",
       "      <td>3241</td>\n",
       "    </tr>\n",
       "    <tr>\n",
       "      <th>18</th>\n",
       "      <td>3218</td>\n",
       "    </tr>\n",
       "    <tr>\n",
       "      <th rowspan=\"2\" valign=\"top\">Wednesday</th>\n",
       "      <th>17</th>\n",
       "      <td>3153</td>\n",
       "    </tr>\n",
       "    <tr>\n",
       "      <th>18</th>\n",
       "      <td>3098</td>\n",
       "    </tr>\n",
       "    <tr>\n",
       "      <th>Monday</th>\n",
       "      <th>18</th>\n",
       "      <td>3089</td>\n",
       "    </tr>\n",
       "    <tr>\n",
       "      <th>Tuesday</th>\n",
       "      <th>16</th>\n",
       "      <td>3080</td>\n",
       "    </tr>\n",
       "    <tr>\n",
       "      <th>Friday</th>\n",
       "      <th>16</th>\n",
       "      <td>3073</td>\n",
       "    </tr>\n",
       "    <tr>\n",
       "      <th>Wednesday</th>\n",
       "      <th>16</th>\n",
       "      <td>3053</td>\n",
       "    </tr>\n",
       "  </tbody>\n",
       "</table>\n",
       "</div>"
      ],
      "text/plain": [
       "                  count\n",
       "DAY_OF_WEEK HOUR       \n",
       "Monday      17     3254\n",
       "Friday      17     3252\n",
       "Tuesday     17     3241\n",
       "            18     3218\n",
       "Wednesday   17     3153\n",
       "            18     3098\n",
       "Monday      18     3089\n",
       "Tuesday     16     3080\n",
       "Friday      16     3073\n",
       "Wednesday   16     3053"
      ]
     },
     "execution_count": 25,
     "metadata": {},
     "output_type": "execute_result"
    }
   ],
   "source": [
    "data.groupby(['DAY_OF_WEEK','HOUR']).agg({'INCIDENT_NUMBER':'count'}).rename(columns={'INCIDENT_NUMBER':'count'}).sort_values(by='count',ascending=False).head(10)"
   ]
  },
  {
   "cell_type": "markdown",
   "metadata": {},
   "source": [
    "It is a bit weired that top ten frequent are between 16 and 18 and only during weekday "
   ]
  },
  {
   "cell_type": "code",
   "execution_count": 26,
   "metadata": {},
   "outputs": [
    {
     "data": {
      "text/html": [
       "<div>\n",
       "<style scoped>\n",
       "    .dataframe tbody tr th:only-of-type {\n",
       "        vertical-align: middle;\n",
       "    }\n",
       "\n",
       "    .dataframe tbody tr th {\n",
       "        vertical-align: top;\n",
       "    }\n",
       "\n",
       "    .dataframe thead th {\n",
       "        text-align: right;\n",
       "    }\n",
       "</style>\n",
       "<table border=\"1\" class=\"dataframe\">\n",
       "  <thead>\n",
       "    <tr style=\"text-align: right;\">\n",
       "      <th></th>\n",
       "      <th></th>\n",
       "      <th>count</th>\n",
       "    </tr>\n",
       "    <tr>\n",
       "      <th>DAY_OF_WEEK</th>\n",
       "      <th>HOUR</th>\n",
       "      <th></th>\n",
       "    </tr>\n",
       "  </thead>\n",
       "  <tbody>\n",
       "    <tr>\n",
       "      <th rowspan=\"3\" valign=\"top\">Saturday</th>\n",
       "      <th>0</th>\n",
       "      <td>45</td>\n",
       "    </tr>\n",
       "    <tr>\n",
       "      <th>2</th>\n",
       "      <td>26</td>\n",
       "    </tr>\n",
       "    <tr>\n",
       "      <th>22</th>\n",
       "      <td>23</td>\n",
       "    </tr>\n",
       "    <tr>\n",
       "      <th>Wednesday</th>\n",
       "      <th>22</th>\n",
       "      <td>22</td>\n",
       "    </tr>\n",
       "    <tr>\n",
       "      <th rowspan=\"2\" valign=\"top\">Sunday</th>\n",
       "      <th>0</th>\n",
       "      <td>20</td>\n",
       "    </tr>\n",
       "    <tr>\n",
       "      <th>22</th>\n",
       "      <td>19</td>\n",
       "    </tr>\n",
       "    <tr>\n",
       "      <th>Friday</th>\n",
       "      <th>21</th>\n",
       "      <td>18</td>\n",
       "    </tr>\n",
       "    <tr>\n",
       "      <th>Saturday</th>\n",
       "      <th>23</th>\n",
       "      <td>18</td>\n",
       "    </tr>\n",
       "    <tr>\n",
       "      <th>Monday</th>\n",
       "      <th>23</th>\n",
       "      <td>17</td>\n",
       "    </tr>\n",
       "    <tr>\n",
       "      <th>Thursday</th>\n",
       "      <th>13</th>\n",
       "      <td>16</td>\n",
       "    </tr>\n",
       "  </tbody>\n",
       "</table>\n",
       "</div>"
      ],
      "text/plain": [
       "                  count\n",
       "DAY_OF_WEEK HOUR       \n",
       "Saturday    0        45\n",
       "            2        26\n",
       "            22       23\n",
       "Wednesday   22       22\n",
       "Sunday      0        20\n",
       "            22       19\n",
       "Friday      21       18\n",
       "Saturday    23       18\n",
       "Monday      23       17\n",
       "Thursday    13       16"
      ]
     },
     "execution_count": 26,
     "metadata": {},
     "output_type": "execute_result"
    }
   ],
   "source": [
    "data[data['SHOOTING']=='Y'].groupby(['DAY_OF_WEEK','HOUR']).agg({'INCIDENT_NUMBER':'count'}).rename(columns={'INCIDENT_NUMBER':'count'}).sort_values(by='count',ascending=False).head(10)"
   ]
  },
  {
   "cell_type": "markdown",
   "metadata": {},
   "source": [
    "For crimes involving shooting, as expected most happen during midnight. And weekday seems no any impacts on number of crimes\n",
    "<br>Therefore the police force should carry adequate weapons at midnight on patrol"
   ]
  },
  {
   "cell_type": "code",
   "execution_count": 27,
   "metadata": {},
   "outputs": [
    {
     "data": {
      "text/plain": [
       "HOUR\n",
       "0     Motor Vehicle Accident Response\n",
       "1     Motor Vehicle Accident Response\n",
       "2     Motor Vehicle Accident Response\n",
       "3     Motor Vehicle Accident Response\n",
       "4     Motor Vehicle Accident Response\n",
       "5     Motor Vehicle Accident Response\n",
       "6     Motor Vehicle Accident Response\n",
       "7     Motor Vehicle Accident Response\n",
       "8     Motor Vehicle Accident Response\n",
       "9     Motor Vehicle Accident Response\n",
       "10    Motor Vehicle Accident Response\n",
       "11    Motor Vehicle Accident Response\n",
       "12                            Larceny\n",
       "13    Motor Vehicle Accident Response\n",
       "14    Motor Vehicle Accident Response\n",
       "15    Motor Vehicle Accident Response\n",
       "16    Motor Vehicle Accident Response\n",
       "17    Motor Vehicle Accident Response\n",
       "18    Motor Vehicle Accident Response\n",
       "19    Motor Vehicle Accident Response\n",
       "20    Motor Vehicle Accident Response\n",
       "21    Motor Vehicle Accident Response\n",
       "22    Motor Vehicle Accident Response\n",
       "23    Motor Vehicle Accident Response\n",
       "Name: OFFENSE_CODE_GROUP, dtype: object"
      ]
     },
     "execution_count": 27,
     "metadata": {},
     "output_type": "execute_result"
    }
   ],
   "source": [
    "data.groupby(['HOUR'])['OFFENSE_CODE_GROUP'].agg(pd.Series.mode)"
   ]
  },
  {
   "cell_type": "markdown",
   "metadata": {},
   "source": [
    "Motor Vehicle Accident Response is also always the most frequent crimes at any time "
   ]
  },
  {
   "cell_type": "code",
   "execution_count": 28,
   "metadata": {},
   "outputs": [
    {
     "data": {
      "text/plain": [
       "HOUR\n",
       "0                        Aggravated Assault\n",
       "1                        Aggravated Assault\n",
       "2                        Aggravated Assault\n",
       "3                        Aggravated Assault\n",
       "4                        Aggravated Assault\n",
       "5     [Aggravated Assault, Warrant Arrests]\n",
       "6                        Aggravated Assault\n",
       "8                        Aggravated Assault\n",
       "9                                  Homicide\n",
       "10                       Aggravated Assault\n",
       "11                       Aggravated Assault\n",
       "12                       Aggravated Assault\n",
       "13                       Aggravated Assault\n",
       "14                       Aggravated Assault\n",
       "15                       Aggravated Assault\n",
       "16                       Aggravated Assault\n",
       "17                       Aggravated Assault\n",
       "18                       Aggravated Assault\n",
       "19                       Aggravated Assault\n",
       "20                       Aggravated Assault\n",
       "21                       Aggravated Assault\n",
       "22                       Aggravated Assault\n",
       "23                       Aggravated Assault\n",
       "Name: OFFENSE_CODE_GROUP, dtype: object"
      ]
     },
     "execution_count": 28,
     "metadata": {},
     "output_type": "execute_result"
    }
   ],
   "source": [
    "data[data['SHOOTING']=='Y'].groupby(['HOUR'])['OFFENSE_CODE_GROUP'].agg(pd.Series.mode)"
   ]
  },
  {
   "cell_type": "markdown",
   "metadata": {},
   "source": [
    "And also aggravated Assault for crimes involving shooting"
   ]
  },
  {
   "cell_type": "markdown",
   "metadata": {},
   "source": [
    "Next step is to study the location \n",
    "<br>As mentioned before, it is necessary to eliminate records with inaccurate Lat and Long from the dataset first\n",
    "<br>A new dataset will be created "
   ]
  },
  {
   "cell_type": "code",
   "execution_count": 29,
   "metadata": {},
   "outputs": [],
   "source": [
    "data2 = data[(data['Lat']>=42)&(data['Lat']<=43)]"
   ]
  },
  {
   "cell_type": "code",
   "execution_count": 30,
   "metadata": {},
   "outputs": [
    {
     "data": {
      "text/html": [
       "<div>\n",
       "<style scoped>\n",
       "    .dataframe tbody tr th:only-of-type {\n",
       "        vertical-align: middle;\n",
       "    }\n",
       "\n",
       "    .dataframe tbody tr th {\n",
       "        vertical-align: top;\n",
       "    }\n",
       "\n",
       "    .dataframe thead th {\n",
       "        text-align: right;\n",
       "    }\n",
       "</style>\n",
       "<table border=\"1\" class=\"dataframe\">\n",
       "  <thead>\n",
       "    <tr style=\"text-align: right;\">\n",
       "      <th></th>\n",
       "      <th>OFFENSE_CODE</th>\n",
       "      <th>YEAR</th>\n",
       "      <th>MONTH</th>\n",
       "      <th>HOUR</th>\n",
       "      <th>Lat</th>\n",
       "      <th>Long</th>\n",
       "    </tr>\n",
       "  </thead>\n",
       "  <tbody>\n",
       "    <tr>\n",
       "      <th>count</th>\n",
       "      <td>298329.000000</td>\n",
       "      <td>298329.000000</td>\n",
       "      <td>298329.000000</td>\n",
       "      <td>298329.000000</td>\n",
       "      <td>298329.000000</td>\n",
       "      <td>298329.000000</td>\n",
       "    </tr>\n",
       "    <tr>\n",
       "      <th>mean</th>\n",
       "      <td>2296.293143</td>\n",
       "      <td>2016.553547</td>\n",
       "      <td>6.613229</td>\n",
       "      <td>13.125352</td>\n",
       "      <td>42.322298</td>\n",
       "      <td>-71.082850</td>\n",
       "    </tr>\n",
       "    <tr>\n",
       "      <th>std</th>\n",
       "      <td>1183.110778</td>\n",
       "      <td>1.000330</td>\n",
       "      <td>3.278119</td>\n",
       "      <td>6.278917</td>\n",
       "      <td>0.031881</td>\n",
       "      <td>0.029771</td>\n",
       "    </tr>\n",
       "    <tr>\n",
       "      <th>min</th>\n",
       "      <td>111.000000</td>\n",
       "      <td>2015.000000</td>\n",
       "      <td>1.000000</td>\n",
       "      <td>0.000000</td>\n",
       "      <td>42.232413</td>\n",
       "      <td>-71.178674</td>\n",
       "    </tr>\n",
       "    <tr>\n",
       "      <th>25%</th>\n",
       "      <td>802.000000</td>\n",
       "      <td>2016.000000</td>\n",
       "      <td>4.000000</td>\n",
       "      <td>9.000000</td>\n",
       "      <td>42.297555</td>\n",
       "      <td>-71.097193</td>\n",
       "    </tr>\n",
       "    <tr>\n",
       "      <th>50%</th>\n",
       "      <td>2907.000000</td>\n",
       "      <td>2017.000000</td>\n",
       "      <td>7.000000</td>\n",
       "      <td>14.000000</td>\n",
       "      <td>42.325610</td>\n",
       "      <td>-71.077562</td>\n",
       "    </tr>\n",
       "    <tr>\n",
       "      <th>75%</th>\n",
       "      <td>3201.000000</td>\n",
       "      <td>2017.000000</td>\n",
       "      <td>9.000000</td>\n",
       "      <td>18.000000</td>\n",
       "      <td>42.348624</td>\n",
       "      <td>-71.062563</td>\n",
       "    </tr>\n",
       "    <tr>\n",
       "      <th>max</th>\n",
       "      <td>3831.000000</td>\n",
       "      <td>2018.000000</td>\n",
       "      <td>12.000000</td>\n",
       "      <td>23.000000</td>\n",
       "      <td>42.395042</td>\n",
       "      <td>-70.963676</td>\n",
       "    </tr>\n",
       "  </tbody>\n",
       "</table>\n",
       "</div>"
      ],
      "text/plain": [
       "        OFFENSE_CODE           YEAR          MONTH           HOUR  \\\n",
       "count  298329.000000  298329.000000  298329.000000  298329.000000   \n",
       "mean     2296.293143    2016.553547       6.613229      13.125352   \n",
       "std      1183.110778       1.000330       3.278119       6.278917   \n",
       "min       111.000000    2015.000000       1.000000       0.000000   \n",
       "25%       802.000000    2016.000000       4.000000       9.000000   \n",
       "50%      2907.000000    2017.000000       7.000000      14.000000   \n",
       "75%      3201.000000    2017.000000       9.000000      18.000000   \n",
       "max      3831.000000    2018.000000      12.000000      23.000000   \n",
       "\n",
       "                 Lat           Long  \n",
       "count  298329.000000  298329.000000  \n",
       "mean       42.322298     -71.082850  \n",
       "std         0.031881       0.029771  \n",
       "min        42.232413     -71.178674  \n",
       "25%        42.297555     -71.097193  \n",
       "50%        42.325610     -71.077562  \n",
       "75%        42.348624     -71.062563  \n",
       "max        42.395042     -70.963676  "
      ]
     },
     "execution_count": 30,
     "metadata": {},
     "output_type": "execute_result"
    }
   ],
   "source": [
    "data2.describe()"
   ]
  },
  {
   "cell_type": "markdown",
   "metadata": {},
   "source": [
    "There are still nearly 300k records "
   ]
  },
  {
   "cell_type": "code",
   "execution_count": 31,
   "metadata": {},
   "outputs": [
    {
     "data": {
      "image/png": "[encoded data removed]",
      "text/plain": [
       "<Figure size 432x288 with 1 Axes>"
      ]
     },
     "metadata": {
      "needs_background": "light"
     },
     "output_type": "display_data"
    }
   ],
   "source": [
    "sns.scatterplot(data=data2,x='Long',y='Lat')\n",
    "plt.show()"
   ]
  },
  {
   "cell_type": "code",
   "execution_count": 32,
   "metadata": {},
   "outputs": [
    {
     "data": {
      "image/png": "[encoded data removed]",
      "text/plain": [
       "<Figure size 432x288 with 1 Axes>"
      ]
     },
     "metadata": {
      "needs_background": "light"
     },
     "output_type": "display_data"
    }
   ],
   "source": [
    "sns.scatterplot(data=data2[data2['SHOOTING']=='Y'],x='Long',y='Lat')\n",
    "plt.show()"
   ]
  },
  {
   "cell_type": "code",
   "execution_count": 33,
   "metadata": {
    "scrolled": false
   },
   "outputs": [
    {
     "data": {
      "text/html": [
       "<div style=\"width:100%;\"><div style=\"position:relative;width:100%;height:0;padding-bottom:60%;\"><iframe src=\"data:text/html;charset=utf-8;base64,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\" style=\"position:absolute;width:100%;height:100%;left:0;top:0;border:none !important;\" allowfullscreen webkitallowfullscreen mozallowfullscreen></iframe></div></div>"
      ],
      "text/plain": [
       "<folium.folium.Map at 0x1fe5c4060f0>"
      ]
     },
     "execution_count": 33,
     "metadata": {},
     "output_type": "execute_result"
    }
   ],
   "source": [
    "boston_map = folium.Map(location=[42.3, -71.1],zoom_start =12)\n",
    "loc_shooting= data2[data2['SHOOTING']=='Y'][['Lat','Long']].values\n",
    "loc_shooting =loc_shooting.tolist()\n",
    "hm = plugins.HeatMap(loc_shooting)\n",
    "hm.add_to(boston_map)\n",
    "boston_map"
   ]
  },
  {
   "cell_type": "markdown",
   "metadata": {},
   "source": [
    "Shooting crimes only happen in particular region, especially on the south of Boston central area, eg Dorchester"
   ]
  },
  {
   "cell_type": "code",
   "execution_count": null,
   "metadata": {},
   "outputs": [],
   "source": []
  }
 ],
 "metadata": {
  "kernelspec": {
   "display_name": "Python 3",
   "language": "python",
   "name": "python3"
  },
  "language_info": {
   "codemirror_mode": {
    "name": "ipython",
    "version": 3
   },
   "file_extension": ".py",
   "mimetype": "text/x-python",
   "name": "python",
   "nbconvert_exporter": "python",
   "pygments_lexer": "ipython3",
   "version": "3.7.3"
  }
 },
 "nbformat": 4,
 "nbformat_minor": 2
}
